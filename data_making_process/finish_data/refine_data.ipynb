{
 "cells": [
  {
   "cell_type": "code",
   "execution_count": 2,
   "metadata": {},
   "outputs": [],
   "source": [
    "import sys \n",
    "import pandas as pd "
   ]
  },
  {
   "cell_type": "markdown",
   "metadata": {},
   "source": [
    "# Train"
   ]
  },
  {
   "cell_type": "code",
   "execution_count": 3,
   "metadata": {},
   "outputs": [],
   "source": [
    "train_df = pd.read_csv(\"../Iterations/Iter1/train.csv\")"
   ]
  },
  {
   "cell_type": "code",
   "execution_count": 4,
   "metadata": {},
   "outputs": [
    {
     "data": {
      "text/html": [
       "<div>\n",
       "<style scoped>\n",
       "    .dataframe tbody tr th:only-of-type {\n",
       "        vertical-align: middle;\n",
       "    }\n",
       "\n",
       "    .dataframe tbody tr th {\n",
       "        vertical-align: top;\n",
       "    }\n",
       "\n",
       "    .dataframe thead th {\n",
       "        text-align: right;\n",
       "    }\n",
       "</style>\n",
       "<table border=\"1\" class=\"dataframe\">\n",
       "  <thead>\n",
       "    <tr style=\"text-align: right;\">\n",
       "      <th></th>\n",
       "      <th>id</th>\n",
       "      <th>text</th>\n",
       "      <th>label</th>\n",
       "      <th>dataset_type</th>\n",
       "      <th>check</th>\n",
       "    </tr>\n",
       "  </thead>\n",
       "  <tbody>\n",
       "    <tr>\n",
       "      <th>0</th>\n",
       "      <td>0</td>\n",
       "      <td>Bấp bênh vl thế</td>\n",
       "      <td>1</td>\n",
       "      <td>train</td>\n",
       "      <td>True</td>\n",
       "    </tr>\n",
       "    <tr>\n",
       "      <th>1</th>\n",
       "      <td>2</td>\n",
       "      <td>Thấy chán ad page này kiến thức thì nông cản c...</td>\n",
       "      <td>1</td>\n",
       "      <td>train</td>\n",
       "      <td>NaN</td>\n",
       "    </tr>\n",
       "    <tr>\n",
       "      <th>2</th>\n",
       "      <td>3</td>\n",
       "      <td>Giang Giang Đỗ Thị Ngọc Hà trend mới kìa kìa</td>\n",
       "      <td>0</td>\n",
       "      <td>train</td>\n",
       "      <td>NaN</td>\n",
       "    </tr>\n",
       "    <tr>\n",
       "      <th>3</th>\n",
       "      <td>4</td>\n",
       "      <td>đcm 😒 sau có con cho hút cỏ chữa bệnh chứ đéo ...</td>\n",
       "      <td>1</td>\n",
       "      <td>train</td>\n",
       "      <td>NaN</td>\n",
       "    </tr>\n",
       "    <tr>\n",
       "      <th>4</th>\n",
       "      <td>5</td>\n",
       "      <td>Má nứng quá aiu ơi</td>\n",
       "      <td>0</td>\n",
       "      <td>train</td>\n",
       "      <td>True</td>\n",
       "    </tr>\n",
       "  </tbody>\n",
       "</table>\n",
       "</div>"
      ],
      "text/plain": [
       "   id                                               text  label dataset_type  \\\n",
       "0   0                                    Bấp bênh vl thế      1        train   \n",
       "1   2  Thấy chán ad page này kiến thức thì nông cản c...      1        train   \n",
       "2   3       Giang Giang Đỗ Thị Ngọc Hà trend mới kìa kìa      0        train   \n",
       "3   4  đcm 😒 sau có con cho hút cỏ chữa bệnh chứ đéo ...      1        train   \n",
       "4   5                                 Má nứng quá aiu ơi      0        train   \n",
       "\n",
       "  check  \n",
       "0  True  \n",
       "1   NaN  \n",
       "2   NaN  \n",
       "3   NaN  \n",
       "4  True  "
      ]
     },
     "execution_count": 4,
     "metadata": {},
     "output_type": "execute_result"
    }
   ],
   "source": [
    "train_df.head()"
   ]
  },
  {
   "cell_type": "code",
   "execution_count": 5,
   "metadata": {},
   "outputs": [
    {
     "data": {
      "text/plain": [
       "<Axes: xlabel='label'>"
      ]
     },
     "execution_count": 5,
     "metadata": {},
     "output_type": "execute_result"
    },
    {
     "data": {
      "image/png": "[encoded data removed]",
      "text/plain": [
       "<Figure size 640x480 with 1 Axes>"
      ]
     },
     "metadata": {},
     "output_type": "display_data"
    }
   ],
   "source": [
    "train_df.label.value_counts().plot(kind='bar')"
   ]
  },
  {
   "cell_type": "code",
   "execution_count": 12,
   "metadata": {},
   "outputs": [
    {
     "data": {
      "text/plain": [
       "label\n",
       "0    27397\n",
       "1     6325\n",
       "Name: count, dtype: int64"
      ]
     },
     "execution_count": 12,
     "metadata": {},
     "output_type": "execute_result"
    }
   ],
   "source": [
    "train_df.label.value_counts()"
   ]
  },
  {
   "cell_type": "code",
   "execution_count": 6,
   "metadata": {},
   "outputs": [
    {
     "data": {
      "text/plain": [
       "33722"
      ]
     },
     "execution_count": 6,
     "metadata": {},
     "output_type": "execute_result"
    }
   ],
   "source": [
    "len(train_df)"
   ]
  },
  {
   "cell_type": "markdown",
   "metadata": {},
   "source": [
    "# val"
   ]
  },
  {
   "cell_type": "code",
   "execution_count": 7,
   "metadata": {},
   "outputs": [],
   "source": [
    "val_df = pd.read_csv(\"../Iterations/Iter1/val.csv\")"
   ]
  },
  {
   "cell_type": "code",
   "execution_count": 8,
   "metadata": {},
   "outputs": [
    {
     "data": {
      "text/html": [
       "<div>\n",
       "<style scoped>\n",
       "    .dataframe tbody tr th:only-of-type {\n",
       "        vertical-align: middle;\n",
       "    }\n",
       "\n",
       "    .dataframe tbody tr th {\n",
       "        vertical-align: top;\n",
       "    }\n",
       "\n",
       "    .dataframe thead th {\n",
       "        text-align: right;\n",
       "    }\n",
       "</style>\n",
       "<table border=\"1\" class=\"dataframe\">\n",
       "  <thead>\n",
       "    <tr style=\"text-align: right;\">\n",
       "      <th></th>\n",
       "      <th>id</th>\n",
       "      <th>text</th>\n",
       "      <th>label</th>\n",
       "      <th>dataset_type</th>\n",
       "      <th>check</th>\n",
       "    </tr>\n",
       "  </thead>\n",
       "  <tbody>\n",
       "    <tr>\n",
       "      <th>0</th>\n",
       "      <td>7470</td>\n",
       "      <td>Cs cha , Cs con , Rận cha, Rận con ...ai đúng ...</td>\n",
       "      <td>1</td>\n",
       "      <td>dev</td>\n",
       "      <td>NaN</td>\n",
       "    </tr>\n",
       "    <tr>\n",
       "      <th>1</th>\n",
       "      <td>7471</td>\n",
       "      <td>Long Duy Đào cái tội ớ</td>\n",
       "      <td>0</td>\n",
       "      <td>dev</td>\n",
       "      <td>NaN</td>\n",
       "    </tr>\n",
       "    <tr>\n",
       "      <th>2</th>\n",
       "      <td>7472</td>\n",
       "      <td>Nói gì tào lao kg</td>\n",
       "      <td>1</td>\n",
       "      <td>dev</td>\n",
       "      <td>NaN</td>\n",
       "    </tr>\n",
       "    <tr>\n",
       "      <th>3</th>\n",
       "      <td>7473</td>\n",
       "      <td>Chả làm gì cũng có fan cứng =))</td>\n",
       "      <td>0</td>\n",
       "      <td>dev</td>\n",
       "      <td>NaN</td>\n",
       "    </tr>\n",
       "    <tr>\n",
       "      <th>4</th>\n",
       "      <td>7474</td>\n",
       "      <td>Sao lại cứ đến nụ cười . lên không nghe rõ lời...</td>\n",
       "      <td>0</td>\n",
       "      <td>dev</td>\n",
       "      <td>True</td>\n",
       "    </tr>\n",
       "    <tr>\n",
       "      <th>...</th>\n",
       "      <td>...</td>\n",
       "      <td>...</td>\n",
       "      <td>...</td>\n",
       "      <td>...</td>\n",
       "      <td>...</td>\n",
       "    </tr>\n",
       "    <tr>\n",
       "      <th>5470</th>\n",
       "      <td>45144</td>\n",
       "      <td>bé trai sơ sinh được phi hành đoàn đặt biệt d...</td>\n",
       "      <td>0</td>\n",
       "      <td>dev</td>\n",
       "      <td>NaN</td>\n",
       "    </tr>\n",
       "    <tr>\n",
       "      <th>5471</th>\n",
       "      <td>45145</td>\n",
       "      <td>cháy xưởng nhựa ở vĩnh phúc trong đêm khoảng 2...</td>\n",
       "      <td>0</td>\n",
       "      <td>dev</td>\n",
       "      <td>NaN</td>\n",
       "    </tr>\n",
       "    <tr>\n",
       "      <th>5472</th>\n",
       "      <td>45146</td>\n",
       "      <td>\"đến 2h sáng nay lực lượng chức năng đã dập t...</td>\n",
       "      <td>0</td>\n",
       "      <td>dev</td>\n",
       "      <td>NaN</td>\n",
       "    </tr>\n",
       "    <tr>\n",
       "      <th>5473</th>\n",
       "      <td>45147</td>\n",
       "      <td>dạy trẻ cách xây dựng thực đơn việc lên thực đ...</td>\n",
       "      <td>0</td>\n",
       "      <td>dev</td>\n",
       "      <td>NaN</td>\n",
       "    </tr>\n",
       "    <tr>\n",
       "      <th>5474</th>\n",
       "      <td>45148</td>\n",
       "      <td>câu chuyện thổi nồng độ cồn vẫn luôn gây tranh...</td>\n",
       "      <td>0</td>\n",
       "      <td>dev</td>\n",
       "      <td>NaN</td>\n",
       "    </tr>\n",
       "  </tbody>\n",
       "</table>\n",
       "<p>5475 rows × 5 columns</p>\n",
       "</div>"
      ],
      "text/plain": [
       "         id                                               text  label  \\\n",
       "0      7470  Cs cha , Cs con , Rận cha, Rận con ...ai đúng ...      1   \n",
       "1      7471                             Long Duy Đào cái tội ớ      0   \n",
       "2      7472                                  Nói gì tào lao kg      1   \n",
       "3      7473                    Chả làm gì cũng có fan cứng =))      0   \n",
       "4      7474  Sao lại cứ đến nụ cười . lên không nghe rõ lời...      0   \n",
       "...     ...                                                ...    ...   \n",
       "5470  45144   bé trai sơ sinh được phi hành đoàn đặt biệt d...      0   \n",
       "5471  45145  cháy xưởng nhựa ở vĩnh phúc trong đêm khoảng 2...      0   \n",
       "5472  45146   \"đến 2h sáng nay lực lượng chức năng đã dập t...      0   \n",
       "5473  45147  dạy trẻ cách xây dựng thực đơn việc lên thực đ...      0   \n",
       "5474  45148  câu chuyện thổi nồng độ cồn vẫn luôn gây tranh...      0   \n",
       "\n",
       "     dataset_type check  \n",
       "0             dev   NaN  \n",
       "1             dev   NaN  \n",
       "2             dev   NaN  \n",
       "3             dev   NaN  \n",
       "4             dev  True  \n",
       "...           ...   ...  \n",
       "5470          dev   NaN  \n",
       "5471          dev   NaN  \n",
       "5472          dev   NaN  \n",
       "5473          dev   NaN  \n",
       "5474          dev   NaN  \n",
       "\n",
       "[5475 rows x 5 columns]"
      ]
     },
     "execution_count": 8,
     "metadata": {},
     "output_type": "execute_result"
    }
   ],
   "source": [
    "val_df"
   ]
  },
  {
   "cell_type": "code",
   "execution_count": 9,
   "metadata": {},
   "outputs": [
    {
     "data": {
      "text/plain": [
       "<Axes: xlabel='label'>"
      ]
     },
     "execution_count": 9,
     "metadata": {},
     "output_type": "execute_result"
    },
    {
     "data": {
      "image/png": "[encoded data removed]",
      "text/plain": [
       "<Figure size 640x480 with 1 Axes>"
      ]
     },
     "metadata": {},
     "output_type": "display_data"
    }
   ],
   "source": [
    "val_df.label.value_counts().plot(kind='bar')"
   ]
  },
  {
   "cell_type": "markdown",
   "metadata": {},
   "source": [
    "# test"
   ]
  },
  {
   "cell_type": "code",
   "execution_count": 10,
   "metadata": {},
   "outputs": [],
   "source": [
    "test_df = pd.read_csv(\"../Iterations/Iter1/test.csv\")"
   ]
  },
  {
   "cell_type": "code",
   "execution_count": 11,
   "metadata": {},
   "outputs": [
    {
     "data": {
      "text/html": [
       "<div>\n",
       "<style scoped>\n",
       "    .dataframe tbody tr th:only-of-type {\n",
       "        vertical-align: middle;\n",
       "    }\n",
       "\n",
       "    .dataframe tbody tr th {\n",
       "        vertical-align: top;\n",
       "    }\n",
       "\n",
       "    .dataframe thead th {\n",
       "        text-align: right;\n",
       "    }\n",
       "</style>\n",
       "<table border=\"1\" class=\"dataframe\">\n",
       "  <thead>\n",
       "    <tr style=\"text-align: right;\">\n",
       "      <th></th>\n",
       "      <th>id</th>\n",
       "      <th>text</th>\n",
       "      <th>label</th>\n",
       "      <th>dataset_type</th>\n",
       "      <th>check</th>\n",
       "    </tr>\n",
       "  </thead>\n",
       "  <tbody>\n",
       "    <tr>\n",
       "      <th>0</th>\n",
       "      <td>8407</td>\n",
       "      <td>Từ lúc mấy bro cmt cực kì cl gì đấy là rất khó...</td>\n",
       "      <td>1</td>\n",
       "      <td>test</td>\n",
       "      <td>NaN</td>\n",
       "    </tr>\n",
       "    <tr>\n",
       "      <th>1</th>\n",
       "      <td>8408</td>\n",
       "      <td>Nghe trần dần thấy cười đau cả bụng</td>\n",
       "      <td>0</td>\n",
       "      <td>test</td>\n",
       "      <td>NaN</td>\n",
       "    </tr>\n",
       "    <tr>\n",
       "      <th>2</th>\n",
       "      <td>8409</td>\n",
       "      <td>Idol tui có khác. Phải v chứ ai như cái con ph...</td>\n",
       "      <td>1</td>\n",
       "      <td>test</td>\n",
       "      <td>NaN</td>\n",
       "    </tr>\n",
       "    <tr>\n",
       "      <th>3</th>\n",
       "      <td>8410</td>\n",
       "      <td>Cảnh Sát GiựT Tiền = CSGT</td>\n",
       "      <td>1</td>\n",
       "      <td>test</td>\n",
       "      <td>NaN</td>\n",
       "    </tr>\n",
       "    <tr>\n",
       "      <th>4</th>\n",
       "      <td>8411</td>\n",
       "      <td>Ông đi đâu mà lạc sang đây đây</td>\n",
       "      <td>0</td>\n",
       "      <td>test</td>\n",
       "      <td>NaN</td>\n",
       "    </tr>\n",
       "    <tr>\n",
       "      <th>...</th>\n",
       "      <td>...</td>\n",
       "      <td>...</td>\n",
       "      <td>...</td>\n",
       "      <td>...</td>\n",
       "      <td>...</td>\n",
       "    </tr>\n",
       "    <tr>\n",
       "      <th>6805</th>\n",
       "      <td>46002</td>\n",
       "      <td>trong trường hợp này, theo ls. khanh, bà hằng...</td>\n",
       "      <td>1</td>\n",
       "      <td>test</td>\n",
       "      <td>True</td>\n",
       "    </tr>\n",
       "    <tr>\n",
       "      <th>6806</th>\n",
       "      <td>46003</td>\n",
       "      <td>bà cũng không ít lần chỉ trích nặng nề những ...</td>\n",
       "      <td>0</td>\n",
       "      <td>test</td>\n",
       "      <td>NaN</td>\n",
       "    </tr>\n",
       "    <tr>\n",
       "      <th>6807</th>\n",
       "      <td>46004</td>\n",
       "      <td>“bà nguyễn phương hằng có nhiều biểu hiện đã ...</td>\n",
       "      <td>0</td>\n",
       "      <td>test</td>\n",
       "      <td>NaN</td>\n",
       "    </tr>\n",
       "    <tr>\n",
       "      <th>6808</th>\n",
       "      <td>46005</td>\n",
       "      <td>vũ đức khanh nói. bà nguyễn phương hằng bắt đ...</td>\n",
       "      <td>0</td>\n",
       "      <td>test</td>\n",
       "      <td>NaN</td>\n",
       "    </tr>\n",
       "    <tr>\n",
       "      <th>6809</th>\n",
       "      <td>46006</td>\n",
       "      <td>.. trước khi bị bắt, bà nguyễn phương hằng đã ...</td>\n",
       "      <td>0</td>\n",
       "      <td>test</td>\n",
       "      <td>NaN</td>\n",
       "    </tr>\n",
       "  </tbody>\n",
       "</table>\n",
       "<p>6810 rows × 5 columns</p>\n",
       "</div>"
      ],
      "text/plain": [
       "         id                                               text  label  \\\n",
       "0      8407  Từ lúc mấy bro cmt cực kì cl gì đấy là rất khó...      1   \n",
       "1      8408                Nghe trần dần thấy cười đau cả bụng      0   \n",
       "2      8409  Idol tui có khác. Phải v chứ ai như cái con ph...      1   \n",
       "3      8410                          Cảnh Sát GiựT Tiền = CSGT      1   \n",
       "4      8411                     Ông đi đâu mà lạc sang đây đây      0   \n",
       "...     ...                                                ...    ...   \n",
       "6805  46002   trong trường hợp này, theo ls. khanh, bà hằng...      1   \n",
       "6806  46003   bà cũng không ít lần chỉ trích nặng nề những ...      0   \n",
       "6807  46004   “bà nguyễn phương hằng có nhiều biểu hiện đã ...      0   \n",
       "6808  46005   vũ đức khanh nói. bà nguyễn phương hằng bắt đ...      0   \n",
       "6809  46006  .. trước khi bị bắt, bà nguyễn phương hằng đã ...      0   \n",
       "\n",
       "     dataset_type check  \n",
       "0            test   NaN  \n",
       "1            test   NaN  \n",
       "2            test   NaN  \n",
       "3            test   NaN  \n",
       "4            test   NaN  \n",
       "...           ...   ...  \n",
       "6805         test  True  \n",
       "6806         test   NaN  \n",
       "6807         test   NaN  \n",
       "6808         test   NaN  \n",
       "6809         test   NaN  \n",
       "\n",
       "[6810 rows x 5 columns]"
      ]
     },
     "execution_count": 11,
     "metadata": {},
     "output_type": "execute_result"
    }
   ],
   "source": [
    "test_df"
   ]
  },
  {
   "cell_type": "code",
   "execution_count": null,
   "metadata": {},
   "outputs": [],
   "source": []
  }
 ],
 "metadata": {
  "kernelspec": {
   "display_name": "env",
   "language": "python",
   "name": "python3"
  },
  "language_info": {
   "codemirror_mode": {
    "name": "ipython",
    "version": 3
   },
   "file_extension": ".py",
   "mimetype": "text/x-python",
   "name": "python",
   "nbconvert_exporter": "python",
   "pygments_lexer": "ipython3",
   "version": "3.12.2"
  }
 },
 "nbformat": 4,
 "nbformat_minor": 2
}
